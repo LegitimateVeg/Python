{
 "cells": [
  {
   "cell_type": "code",
   "execution_count": 1,
   "id": "53d2f889",
   "metadata": {},
   "outputs": [
    {
     "name": "stdout",
     "output_type": "stream",
     "text": [
      "please choose a number to divide: 33\n",
      "[1, 3, 11, 33]\n"
     ]
    }
   ],
   "source": [
    "num = int(input('please choose a number to divide: '))\n",
    "\n",
    "listrange= list(range(1,num+1))\n",
    "\n",
    "divisorlist=[]\n",
    "\n",
    "for number in listrange:\n",
    "    if num % number == 0:\n",
    "        divisorlist.append(number)\n",
    "print(divisorlist)"
   ]
  }
 ],
 "metadata": {
  "kernelspec": {
   "display_name": "Python 3 (ipykernel)",
   "language": "python",
   "name": "python3"
  },
  "language_info": {
   "codemirror_mode": {
    "name": "ipython",
    "version": 3
   },
   "file_extension": ".py",
   "mimetype": "text/x-python",
   "name": "python",
   "nbconvert_exporter": "python",
   "pygments_lexer": "ipython3",
   "version": "3.9.13"
  }
 },
 "nbformat": 4,
 "nbformat_minor": 5
}
