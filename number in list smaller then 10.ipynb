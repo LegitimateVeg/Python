{
 "cells": [
  {
   "cell_type": "code",
   "execution_count": null,
   "id": "e1f0c351",
   "metadata": {},
   "outputs": [],
   "source": [
    "lst=[]\n",
    "\n",
    "n = 10\n",
    "print('please choose 10 different numbers:')\n",
    "for i in range(0,n):\n",
    "    ele = int(input())\n",
    "    \n",
    "        #if lst[i-1] = lst[i]\n",
    "        #break:\n",
    "    lst.append(ele)\n",
    "\n",
    "print(lst)"
   ]
  },
  {
   "cell_type": "code",
   "execution_count": null,
   "id": "3d7048ee",
   "metadata": {},
   "outputs": [],
   "source": [
    "for number in lst:\n",
    "    if number < 10:\n",
    "        print(number)\n",
    "print('That are all the numbers which are smaller then 10!')"
   ]
  }
 ],
 "metadata": {
  "kernelspec": {
   "display_name": "Python 3 (ipykernel)",
   "language": "python",
   "name": "python3"
  },
  "language_info": {
   "codemirror_mode": {
    "name": "ipython",
    "version": 3
   },
   "file_extension": ".py",
   "mimetype": "text/x-python",
   "name": "python",
   "nbconvert_exporter": "python",
   "pygments_lexer": "ipython3",
   "version": "3.9.13"
  }
 },
 "nbformat": 4,
 "nbformat_minor": 5
}
