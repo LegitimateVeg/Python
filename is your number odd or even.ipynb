{
 "cells": [
  {
   "cell_type": "code",
   "execution_count": null,
   "id": "99251c76",
   "metadata": {},
   "outputs": [],
   "source": [
    "age = int(input(\"tell you how old are you? \"))\n",
    "\n",
    "if 18 <= age <21:\n",
    "    print('Congratz, you can do everything legally (atleast in the EU).')\n",
    "elif age >=21:\n",
    "    print('Congratz, you can do everything legally anywhere in the world (even in the USA :)).')\n",
    "else:\n",
    "    print('you are too young to dring alcohol and smoke tabacco!')\n",
    "\n"
   ]
  },
  {
   "cell_type": "code",
   "execution_count": null,
   "id": "a1a3d2d3",
   "metadata": {},
   "outputs": [],
   "source": [
    "mod =age % 2\n",
    "if mod > 0:\n",
    "    print('your age is odd number!')\n",
    "else:\n",
    "    print('your age is even number!')"
   ]
  }
 ],
 "metadata": {
  "kernelspec": {
   "display_name": "Python 3 (ipykernel)",
   "language": "python",
   "name": "python3"
  },
  "language_info": {
   "codemirror_mode": {
    "name": "ipython",
    "version": 3
   },
   "file_extension": ".py",
   "mimetype": "text/x-python",
   "name": "python",
   "nbconvert_exporter": "python",
   "pygments_lexer": "ipython3",
   "version": "3.9.13"
  }
 },
 "nbformat": 4,
 "nbformat_minor": 5
}
