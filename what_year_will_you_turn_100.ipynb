{
 "cells": [
  {
   "cell_type": "code",
   "execution_count": 2,
   "id": "18a24166",
   "metadata": {},
   "outputs": [
    {
     "name": "stdout",
     "output_type": "stream",
     "text": [
      "Tell me your name :Mira\n",
      "your name is Mira\n"
     ]
    }
   ],
   "source": [
    "name = input(\"Tell me your name :\")\n",
    "print('your name is '+ name)"
   ]
  },
  {
   "cell_type": "code",
   "execution_count": 4,
   "id": "a44993fc",
   "metadata": {},
   "outputs": [
    {
     "name": "stdout",
     "output_type": "stream",
     "text": [
      "How old are you? 32\n",
      "You are 32 years old!\n"
     ]
    }
   ],
   "source": [
    "age = int(input('How old are you? '))\n",
    "print('You are '+str(age)+ ' years old!')"
   ]
  },
  {
   "cell_type": "code",
   "execution_count": 5,
   "id": "488800e9",
   "metadata": {},
   "outputs": [],
   "source": [
    "# import date from datetime\n",
    "from datetime import date\n",
    "today = date.today()"
   ]
  },
  {
   "cell_type": "code",
   "execution_count": 6,
   "id": "e31cf06f",
   "metadata": {},
   "outputs": [
    {
     "name": "stdout",
     "output_type": "stream",
     "text": [
      "d1 = 23/02/2023\n"
     ]
    }
   ],
   "source": [
    "#manipulate the date into suitable format\n",
    "d1 = today.strftime(\"%d/%m/%Y\")"
   ]
  },
  {
   "cell_type": "code",
   "execution_count": 7,
   "id": "82dcd301",
   "metadata": {},
   "outputs": [],
   "source": [
    "#get the current year\n",
    "year= int(d1[-4:])"
   ]
  },
  {
   "cell_type": "code",
   "execution_count": 8,
   "id": "0f2d9c89",
   "metadata": {},
   "outputs": [
    {
     "name": "stdout",
     "output_type": "stream",
     "text": [
      "You will be 100 years old in the year 2091\n"
     ]
    }
   ],
   "source": [
    "# calculate the year when you will be 100 years old\n",
    "death = 100 - age + year\n",
    "print('You will be 100 years old in the year '+str(death))"
   ]
  }
 ],
 "metadata": {
  "kernelspec": {
   "display_name": "Python 3 (ipykernel)",
   "language": "python",
   "name": "python3"
  },
  "language_info": {
   "codemirror_mode": {
    "name": "ipython",
    "version": 3
   },
   "file_extension": ".py",
   "mimetype": "text/x-python",
   "name": "python",
   "nbconvert_exporter": "python",
   "pygments_lexer": "ipython3",
   "version": "3.9.13"
  }
 },
 "nbformat": 4,
 "nbformat_minor": 5
}
